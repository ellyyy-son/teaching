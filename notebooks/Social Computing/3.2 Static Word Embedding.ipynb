{
 "cells": [
  {
   "cell_type": "markdown",
   "metadata": {
    "vscode": {
     "languageId": "plaintext"
    }
   },
   "source": [
    "# Load libraries"
   ]
  },
  {
   "cell_type": "code",
   "execution_count": 1,
   "metadata": {},
   "outputs": [],
   "source": [
    "# !pip install gensim"
   ]
  },
  {
   "cell_type": "code",
   "execution_count": 2,
   "metadata": {},
   "outputs": [],
   "source": [
    "import pandas as pd\n",
    "import numpy as np\n",
    "import matplotlib.pyplot as plt\n",
    "\n",
    "import gensim"
   ]
  },
  {
   "cell_type": "markdown",
   "metadata": {},
   "source": [
    "# Load data"
   ]
  },
  {
   "cell_type": "code",
   "execution_count": 3,
   "metadata": {},
   "outputs": [
    {
     "data": {
      "text/html": [
       "<div>\n",
       "<style scoped>\n",
       "    .dataframe tbody tr th:only-of-type {\n",
       "        vertical-align: middle;\n",
       "    }\n",
       "\n",
       "    .dataframe tbody tr th {\n",
       "        vertical-align: top;\n",
       "    }\n",
       "\n",
       "    .dataframe thead th {\n",
       "        text-align: right;\n",
       "    }\n",
       "</style>\n",
       "<table border=\"1\" class=\"dataframe\">\n",
       "  <thead>\n",
       "    <tr style=\"text-align: right;\">\n",
       "      <th></th>\n",
       "      <th>title</th>\n",
       "      <th>link</th>\n",
       "      <th>date_published</th>\n",
       "      <th>text</th>\n",
       "      <th>source</th>\n",
       "      <th>like_count</th>\n",
       "      <th>reply_parent_id</th>\n",
       "      <th>cleaned_text</th>\n",
       "    </tr>\n",
       "  </thead>\n",
       "  <tbody>\n",
       "    <tr>\n",
       "      <th>0</th>\n",
       "      <td>DOJ on 'slow' pace of Alice Guo case: 'We cann...</td>\n",
       "      <td>https://www.rappler.com/philippines/doj-respon...</td>\n",
       "      <td>2024-08-28 10:24:17</td>\n",
       "      <td>MANILA, Philippines – The Department of Justic...</td>\n",
       "      <td>rappler</td>\n",
       "      <td>NaN</td>\n",
       "      <td>NaN</td>\n",
       "      <td>manila philippin depart justic doj defend stra...</td>\n",
       "    </tr>\n",
       "    <tr>\n",
       "      <th>1</th>\n",
       "      <td>Lawyer who notarized Alice Guo's counter affid...</td>\n",
       "      <td>https://www.rappler.com/philippines/lawyer-not...</td>\n",
       "      <td>2024-08-28 07:00:00</td>\n",
       "      <td>CLARK FREEPORT, Philippines – The lawyer who n...</td>\n",
       "      <td>rappler</td>\n",
       "      <td>NaN</td>\n",
       "      <td>NaN</td>\n",
       "      <td>clark freeport philippin lawyer notar counter ...</td>\n",
       "    </tr>\n",
       "    <tr>\n",
       "      <th>2</th>\n",
       "      <td>Alice Guo and siblings fled Philippines by boat</td>\n",
       "      <td>https://www.rappler.com/philippines/alice-guo-...</td>\n",
       "      <td>2024-08-27 13:20:33</td>\n",
       "      <td>MANILA, Philippines – Dismissed Bamban, Tarlac...</td>\n",
       "      <td>rappler</td>\n",
       "      <td>NaN</td>\n",
       "      <td>NaN</td>\n",
       "      <td>manila philippin dismiss bamban tarlac mayor a...</td>\n",
       "    </tr>\n",
       "    <tr>\n",
       "      <th>3</th>\n",
       "      <td>Alice Guo's sister, Porac POGO staff to face S...</td>\n",
       "      <td>https://www.rappler.com/philippines/alice-guo-...</td>\n",
       "      <td>2024-08-27 10:03:09</td>\n",
       "      <td>MANILA, Philippines – After an embarrassing la...</td>\n",
       "      <td>rappler</td>\n",
       "      <td>NaN</td>\n",
       "      <td>NaN</td>\n",
       "      <td>manila philippin embarrass laps let dismiss ma...</td>\n",
       "    </tr>\n",
       "    <tr>\n",
       "      <th>4</th>\n",
       "      <td>Cassandra Ong, Sheila Guo in Congress custody ...</td>\n",
       "      <td>https://www.rappler.com/video/daily-wrap/augus...</td>\n",
       "      <td>2024-08-26 21:53:00</td>\n",
       "      <td>Here are today’s headlines – the latest news i...</td>\n",
       "      <td>rappler</td>\n",
       "      <td>NaN</td>\n",
       "      <td>NaN</td>\n",
       "      <td>today headlin latest news philippin around wor...</td>\n",
       "    </tr>\n",
       "  </tbody>\n",
       "</table>\n",
       "</div>"
      ],
      "text/plain": [
       "                                               title  \\\n",
       "0  DOJ on 'slow' pace of Alice Guo case: 'We cann...   \n",
       "1  Lawyer who notarized Alice Guo's counter affid...   \n",
       "2    Alice Guo and siblings fled Philippines by boat   \n",
       "3  Alice Guo's sister, Porac POGO staff to face S...   \n",
       "4  Cassandra Ong, Sheila Guo in Congress custody ...   \n",
       "\n",
       "                                                link      date_published  \\\n",
       "0  https://www.rappler.com/philippines/doj-respon... 2024-08-28 10:24:17   \n",
       "1  https://www.rappler.com/philippines/lawyer-not... 2024-08-28 07:00:00   \n",
       "2  https://www.rappler.com/philippines/alice-guo-... 2024-08-27 13:20:33   \n",
       "3  https://www.rappler.com/philippines/alice-guo-... 2024-08-27 10:03:09   \n",
       "4  https://www.rappler.com/video/daily-wrap/augus... 2024-08-26 21:53:00   \n",
       "\n",
       "                                                text   source  like_count  \\\n",
       "0  MANILA, Philippines – The Department of Justic...  rappler         NaN   \n",
       "1  CLARK FREEPORT, Philippines – The lawyer who n...  rappler         NaN   \n",
       "2  MANILA, Philippines – Dismissed Bamban, Tarlac...  rappler         NaN   \n",
       "3  MANILA, Philippines – After an embarrassing la...  rappler         NaN   \n",
       "4  Here are today’s headlines – the latest news i...  rappler         NaN   \n",
       "\n",
       "  reply_parent_id                                       cleaned_text  \n",
       "0             NaN  manila philippin depart justic doj defend stra...  \n",
       "1             NaN  clark freeport philippin lawyer notar counter ...  \n",
       "2             NaN  manila philippin dismiss bamban tarlac mayor a...  \n",
       "3             NaN  manila philippin embarrass laps let dismiss ma...  \n",
       "4             NaN  today headlin latest news philippin around wor...  "
      ]
     },
     "execution_count": 3,
     "metadata": {},
     "output_type": "execute_result"
    }
   ],
   "source": [
    "corpus = pd.read_excel('cleaned_corpus.xlsx')\n",
    "corpus.head()"
   ]
  },
  {
   "cell_type": "markdown",
   "metadata": {},
   "source": [
    "# Static Word Embedding"
   ]
  },
  {
   "cell_type": "code",
   "execution_count": 4,
   "metadata": {},
   "outputs": [],
   "source": [
    "# Tokenize the text\n",
    "corpus['tokenized_text'] = corpus['cleaned_text'].apply(lambda x: x.split())"
   ]
  },
  {
   "cell_type": "code",
   "execution_count": 5,
   "metadata": {},
   "outputs": [
    {
     "data": {
      "text/plain": [
       "0    manila philippin depart justic doj defend stra...\n",
       "1    clark freeport philippin lawyer notar counter ...\n",
       "2    manila philippin dismiss bamban tarlac mayor a...\n",
       "3    manila philippin embarrass laps let dismiss ma...\n",
       "4    today headlin latest news philippin around wor...\n",
       "Name: cleaned_text, dtype: object"
      ]
     },
     "metadata": {},
     "output_type": "display_data"
    },
    {
     "data": {
      "text/plain": [
       "0    [manila, philippin, depart, justic, doj, defen...\n",
       "1    [clark, freeport, philippin, lawyer, notar, co...\n",
       "2    [manila, philippin, dismiss, bamban, tarlac, m...\n",
       "3    [manila, philippin, embarrass, laps, let, dism...\n",
       "4    [today, headlin, latest, news, philippin, arou...\n",
       "Name: tokenized_text, dtype: object"
      ]
     },
     "metadata": {},
     "output_type": "display_data"
    }
   ],
   "source": [
    "display(\n",
    "  corpus['cleaned_text'].head()\n",
    ")\n",
    "\n",
    "display(\n",
    "  corpus['tokenized_text'].head()\n",
    ")"
   ]
  },
  {
   "cell_type": "code",
   "execution_count": 6,
   "metadata": {},
   "outputs": [],
   "source": [
    "model = gensim.models.Word2Vec(corpus['tokenized_text'],\n",
    "                               vector_size=100,  # Dimension of the word vectors\n",
    "                               min_count=1,    # Ignores all words with total frequency lower min_count\n",
    "                               sg=0,           # Training algorithm: 0 for CBOW; 1 for Skip-gram\n",
    "                               window=5,       # Maximum distance between the current & predicted word within a sentence\n",
    "                               workers=4,      # Number of workers to use for training\n",
    "                               epochs=10       # Number of iterations over the corpus\n",
    "                               )\n",
    "\n",
    "model.save('word2vec.model')"
   ]
  },
  {
   "cell_type": "markdown",
   "metadata": {},
   "source": [
    "## Inspecting the word2vec"
   ]
  },
  {
   "cell_type": "code",
   "execution_count": 7,
   "metadata": {},
   "outputs": [],
   "source": [
    "# Load the model\n",
    "model = gensim.models.Word2Vec.load('word2vec.model')\n",
    "\n",
    "# Get vectors from the model\n",
    "vectors = model.wv"
   ]
  },
  {
   "cell_type": "markdown",
   "metadata": {},
   "source": [
    "### Number of word vectors generated"
   ]
  },
  {
   "cell_type": "code",
   "execution_count": 8,
   "metadata": {},
   "outputs": [
    {
     "data": {
      "text/plain": [
       "4984"
      ]
     },
     "execution_count": 8,
     "metadata": {},
     "output_type": "execute_result"
    }
   ],
   "source": [
    "# Number of word vectors generated (columns)\n",
    "len(vectors)"
   ]
  },
  {
   "cell_type": "markdown",
   "metadata": {},
   "source": [
    "### List of words / tokens sorted by most frequent"
   ]
  },
  {
   "cell_type": "code",
   "execution_count": 9,
   "metadata": {},
   "outputs": [
    {
     "data": {
      "text/plain": [
       "['pogo', 'philippin', 'game', 'thi', 'hous']"
      ]
     },
     "execution_count": 9,
     "metadata": {},
     "output_type": "execute_result"
    }
   ],
   "source": [
    "# List of words / tokens sorted by most frequent\n",
    "vectors.index_to_key\n",
    "vectors.index_to_key[:5]  # Top 5 words"
   ]
  },
  {
   "cell_type": "markdown",
   "metadata": {},
   "source": [
    "### Similarity between two words"
   ]
  },
  {
   "cell_type": "code",
   "execution_count": 10,
   "metadata": {},
   "outputs": [
    {
     "data": {
      "text/plain": [
       "0.9994341"
      ]
     },
     "execution_count": 10,
     "metadata": {},
     "output_type": "execute_result"
    }
   ],
   "source": [
    "# The similarity method returns a score of how similar the vectors of two words are. The closer the score is to 1, the higher the similarity. The closer to 0, the lower the similarity.\n",
    "vectors.similarity('pogo', 'philippin')"
   ]
  },
  {
   "cell_type": "markdown",
   "metadata": {},
   "source": [
    "### Distance between two words"
   ]
  },
  {
   "cell_type": "code",
   "execution_count": 11,
   "metadata": {},
   "outputs": [
    {
     "data": {
      "text/plain": [
       "0.0005658864974975586"
      ]
     },
     "execution_count": 11,
     "metadata": {},
     "output_type": "execute_result"
    }
   ],
   "source": [
    "# The distance method is the opposite of the similarity method; it returns how dissimilar the vectors of two words are. The closer the score is to 1, the higher the distance and the lower the similarity. The closer to 0, the lower the distance and the higher the similarity.\n",
    "vectors.distance('pogo', 'philippin')"
   ]
  },
  {
   "cell_type": "markdown",
   "metadata": {},
   "source": [
    "### Most similar & dissimilar to the given words"
   ]
  },
  {
   "cell_type": "code",
   "execution_count": 12,
   "metadata": {},
   "outputs": [
    {
     "data": {
      "text/plain": [
       "[('pagcor', 0.9997512698173523),\n",
       " ('raid', 0.9996460676193237),\n",
       " ('repres', 0.9996407628059387),\n",
       " ('licens', 0.999620258808136),\n",
       " ('country', 0.9995967149734497),\n",
       " ('onli', 0.9995924830436707),\n",
       " ('hi', 0.9995837211608887),\n",
       " ('becaus', 0.9995816349983215),\n",
       " ('ong', 0.9995750188827515),\n",
       " ('call', 0.9995748996734619)]"
      ]
     },
     "execution_count": 12,
     "metadata": {},
     "output_type": "execute_result"
    }
   ],
   "source": [
    "# The most_similar method returns words whose vectors are most similar to the given word.\n",
    "vectors.most_similar('pogo', topn=10)"
   ]
  },
  {
   "cell_type": "code",
   "execution_count": 13,
   "metadata": {},
   "outputs": [
    {
     "data": {
      "text/plain": [
       "[('interesting', 0.16616620123386383),\n",
       " ('drag', 0.1557491570711136),\n",
       " ('happi', 0.1513710916042328),\n",
       " ('quicker', 0.14822806417942047),\n",
       " ('declaration', 0.13932693004608154),\n",
       " ('drew', 0.13859139382839203),\n",
       " ('revil', 0.13590292632579803),\n",
       " ('bato', 0.13440978527069092),\n",
       " ('building', 0.13227206468582153),\n",
       " ('huliin', 0.12995615601539612)]"
      ]
     },
     "execution_count": 13,
     "metadata": {},
     "output_type": "execute_result"
    }
   ],
   "source": [
    "# Output the words whose vectors are most similar and dissimilar to the given words.\n",
    "vectors.most_similar(\n",
    "  positive=['pogo'],  # most similar to these words and\n",
    "  negative=['scam'],  # most dissimilar to these word\n",
    "  topn=10\n",
    ")"
   ]
  },
  {
   "cell_type": "markdown",
   "metadata": {},
   "source": [
    "### Word that is least like the other given words"
   ]
  },
  {
   "cell_type": "code",
   "execution_count": 14,
   "metadata": {},
   "outputs": [
    {
     "data": {
      "text/plain": [
       "'mabuti'"
      ]
     },
     "execution_count": 14,
     "metadata": {},
     "output_type": "execute_result"
    }
   ],
   "source": [
    "odd_one_out_words = \"alice guo scam pogo mabuti\"\n",
    "odd_one_out_words = odd_one_out_words.split()\n",
    "vectors.doesnt_match(odd_one_out_words)"
   ]
  },
  {
   "cell_type": "code",
   "execution_count": 15,
   "metadata": {},
   "outputs": [
    {
     "data": {
      "text/plain": [
       "[('building', 0.00022669745),\n",
       " ('boy', 0.0002258903),\n",
       " ('bukidnon', 0.00022314826),\n",
       " ('unlaw', 0.00022306928),\n",
       " ('popular', 0.00022290414)]"
      ]
     },
     "execution_count": 15,
     "metadata": {},
     "output_type": "execute_result"
    }
   ],
   "source": [
    "context_words = \"ang\"\n",
    "context_words = context_words.split()\n",
    "model.predict_output_word(context_words, topn=5)"
   ]
  },
  {
   "cell_type": "markdown",
   "metadata": {},
   "source": [
    "## Plotting vectors"
   ]
  },
  {
   "cell_type": "code",
   "execution_count": 16,
   "metadata": {},
   "outputs": [
    {
     "data": {
      "image/png": "[encoded data removed]",
      "text/plain": [
       "<Figure size 640x480 with 1 Axes>"
      ]
     },
     "metadata": {},
     "output_type": "display_data"
    }
   ],
   "source": [
    "# Plot word vectors\n",
    "def plot_vectors(vectors, words):\n",
    "  # Create a figure and a 2D Axes\n",
    "  fig, ax = plt.subplots()\n",
    "\n",
    "  for word in words:\n",
    "    # Get the vector for the word\n",
    "    vector = vectors[word]\n",
    "\n",
    "    # Plot the word near the arrow head\n",
    "    ax.text(vector[0] + 0.01, vector[1] + 0.01, word, fontsize=9)\n",
    "    # Plot the vector\n",
    "    ax.arrow(\n",
    "      0,                      # Start x\n",
    "      0,                      # Start y\n",
    "      vector[0],              # End x\n",
    "      vector[1],              # End y\n",
    "      # head_width=0.05,      # Arrow head width\n",
    "      # head_length=0.1       # Arrow head length\n",
    "      head_width=0.05 * 0.1,  # Arrow head width\n",
    "      head_length=0.1 * 0.1,  # Arrow head length\n",
    "      lw=0.01,                # Arrow line width\n",
    "      # fc='r',                 # Arrow fill color\n",
    "      # ec='r'                  # Arrow edge color\n",
    "    )\n",
    "\n",
    "  # Remove border around the plot\n",
    "  ax.spines['top'].set_visible(False)\n",
    "  ax.spines['right'].set_visible(False)\n",
    "  ax.spines['bottom'].set_visible(False)\n",
    "  ax.spines['left'].set_visible(False)\n",
    "\n",
    "  plt.grid()\n",
    "\n",
    "  # Display the plot\n",
    "  plt.show()\n",
    "\n",
    "\n",
    "plot_vectors(vectors, vectors.index_to_key[:2])"
   ]
  },
  {
   "cell_type": "markdown",
   "metadata": {},
   "source": [
    "## Plotting with Principal Component Analysis (PCA)"
   ]
  },
  {
   "cell_type": "code",
   "execution_count": 17,
   "metadata": {},
   "outputs": [],
   "source": [
    "import seaborn as sns\n",
    "import matplotlib.pyplot as plt\n",
    "from sklearn.decomposition import PCA"
   ]
  },
  {
   "cell_type": "code",
   "execution_count": 26,
   "metadata": {},
   "outputs": [
    {
     "data": {
      "text/plain": [
       "['pagcor', 'raid', 'repres', 'licens', 'country']"
      ]
     },
     "execution_count": 26,
     "metadata": {},
     "output_type": "execute_result"
    }
   ],
   "source": [
    "# Words most similar to 'pogo'\n",
    "vectors.most_similar('pogo', topn=5)\n",
    "word_set1 = [word for word, score in vectors.most_similar('pogo', topn=5)]\n",
    "word_set1"
   ]
  },
  {
   "cell_type": "code",
   "execution_count": 27,
   "metadata": {},
   "outputs": [
    {
     "data": {
      "text/plain": [
       "['one', 'like', 'becaus', 'year', 'thi']"
      ]
     },
     "execution_count": 27,
     "metadata": {},
     "output_type": "execute_result"
    }
   ],
   "source": [
    "# Words most similar to 'scam'\n",
    "vectors.most_similar('scam', topn=5)\n",
    "word_set2 = [word for word, score in vectors.most_similar('scam', topn=5)]\n",
    "word_set2"
   ]
  },
  {
   "cell_type": "code",
   "execution_count": 28,
   "metadata": {},
   "outputs": [
    {
     "data": {
      "text/plain": [
       "['pagcor',\n",
       " 'raid',\n",
       " 'repres',\n",
       " 'licens',\n",
       " 'country',\n",
       " 'one',\n",
       " 'like',\n",
       " 'becaus',\n",
       " 'year',\n",
       " 'thi']"
      ]
     },
     "execution_count": 28,
     "metadata": {},
     "output_type": "execute_result"
    }
   ],
   "source": [
    "words_to_viz = word_set1 + word_set2\n",
    "words_to_viz"
   ]
  },
  {
   "cell_type": "code",
   "execution_count": 29,
   "metadata": {},
   "outputs": [
    {
     "data": {
      "text/plain": [
       "[array([-0.47959116,  0.65356815,  0.28662106, -0.06728511,  0.17016557,\n",
       "        -1.0837996 ,  0.40725318,  1.3323326 , -0.35985592, -0.3302753 ,\n",
       "        -0.5282165 , -0.9398999 , -0.2601202 ,  0.3856438 ,  0.13835685,\n",
       "        -0.49666145,  0.08749243, -1.176895  ,  0.08416237, -1.3332736 ,\n",
       "         0.5017787 ,  0.3484563 ,  0.35609066, -0.14202651, -0.21565905,\n",
       "         0.10918961, -0.58208096, -0.49139124, -0.75568306,  0.08334679,\n",
       "         0.6629704 ,  0.33338353, -0.09736993, -0.49815032, -0.283462  ,\n",
       "         0.6308659 ,  0.00164408, -0.74004424, -0.63683885, -1.187405  ,\n",
       "         0.1185706 , -0.60469544, -0.280802  ,  0.07506303,  0.7290824 ,\n",
       "        -0.21330267, -0.77048904, -0.10328633,  0.26023796,  0.54925394,\n",
       "         0.32380372, -0.5702563 , -0.27967674,  0.0759014 , -0.52333385,\n",
       "         0.4554866 ,  0.35156563, -0.10159369, -0.82524514,  0.27799276,\n",
       "         0.27871644,  0.39955613, -0.27554065, -0.06812518, -0.72907674,\n",
       "         0.6254092 ,  0.17994043,  0.3989142 , -0.7905172 ,  0.7690072 ,\n",
       "        -0.36024126,  0.41459104,  0.70236284, -0.41056544,  0.7724511 ,\n",
       "         0.3432878 , -0.12760353, -0.12264642, -0.5628451 ,  0.38352016,\n",
       "        -0.3491516 , -0.00887157, -0.5278737 ,  1.0282006 , -0.05499692,\n",
       "         0.15412919,  0.09975495,  0.9460758 ,  1.15399   , -0.08427746,\n",
       "         0.81432563,  0.20660079,  0.1000509 ,  0.21347424,  1.0676343 ,\n",
       "         0.7029687 ,  0.57723784, -0.8372427 ,  0.24384058, -0.0115139 ],\n",
       "       dtype=float32),\n",
       " array([-0.30595332,  0.4033635 ,  0.1632091 , -0.03313744,  0.0964818 ,\n",
       "        -0.67174363,  0.24310833,  0.8025465 , -0.21515074, -0.18814182,\n",
       "        -0.3531314 , -0.57808065, -0.15792774,  0.24553163,  0.08658991,\n",
       "        -0.30587023,  0.03777907, -0.7207809 ,  0.05985932, -0.8156679 ,\n",
       "         0.30140418,  0.21674876,  0.2319479 , -0.08684068, -0.12981409,\n",
       "         0.06124495, -0.34321672, -0.308279  , -0.46531546,  0.05597907,\n",
       "         0.42275876,  0.20667975, -0.05172323, -0.28866693, -0.18202405,\n",
       "         0.40675607, -0.01641674, -0.47453025, -0.38712588, -0.7445089 ,\n",
       "         0.06688452, -0.38394904, -0.16602816,  0.03200599,  0.4244267 ,\n",
       "        -0.136137  , -0.4749028 , -0.06258726,  0.15078034,  0.32807747,\n",
       "         0.19829695, -0.36562932, -0.17234114,  0.05593469, -0.3258252 ,\n",
       "         0.29696754,  0.21873617, -0.07137023, -0.5233543 ,  0.16491428,\n",
       "         0.19147499,  0.26232317, -0.18373924, -0.04430287, -0.44066676,\n",
       "         0.36748752,  0.11404894,  0.2598199 , -0.4964777 ,  0.4780293 ,\n",
       "        -0.20511268,  0.27047098,  0.41905943, -0.24515715,  0.48448458,\n",
       "         0.23099397, -0.09194057, -0.0742271 , -0.3335076 ,  0.23522231,\n",
       "        -0.21332519, -0.01571387, -0.3366731 ,  0.6526766 , -0.03562053,\n",
       "         0.08496343,  0.06654046,  0.5855444 ,  0.71753573, -0.05396248,\n",
       "         0.5015836 ,  0.12837036,  0.06537935,  0.11467173,  0.6420249 ,\n",
       "         0.43351057,  0.35864776, -0.52998686,  0.16986102, -0.00587645],\n",
       "       dtype=float32),\n",
       " array([-0.4602515 ,  0.5924768 ,  0.26614237, -0.03888849,  0.14440635,\n",
       "        -0.98208463,  0.38641524,  1.2049755 , -0.33350846, -0.30266958,\n",
       "        -0.49763831, -0.8335938 , -0.22890525,  0.3441632 ,  0.11984653,\n",
       "        -0.4599283 ,  0.07291186, -1.0949014 ,  0.08679388, -1.2195138 ,\n",
       "         0.44831434,  0.32772285,  0.31910393, -0.11602712, -0.17015186,\n",
       "         0.09813119, -0.54746103, -0.4483087 , -0.70367223,  0.06804194,\n",
       "         0.6141721 ,  0.32302132, -0.11325367, -0.45576632, -0.2574877 ,\n",
       "         0.5927348 , -0.02350121, -0.69946456, -0.5829779 , -1.1227977 ,\n",
       "         0.09972895, -0.5522382 , -0.27630293,  0.06244288,  0.6670898 ,\n",
       "        -0.21959183, -0.69052774, -0.0976959 ,  0.24335885,  0.496148  ,\n",
       "         0.28038922, -0.5362013 , -0.269744  ,  0.08289214, -0.49312967,\n",
       "         0.4334965 ,  0.29174688, -0.11247469, -0.75540316,  0.23851849,\n",
       "         0.28276372,  0.39646155, -0.23905711, -0.07300051, -0.6844366 ,\n",
       "         0.55412537,  0.15283878,  0.3936557 , -0.70560527,  0.7129114 ,\n",
       "        -0.30771497,  0.40919322,  0.6343699 , -0.3722617 ,  0.724232  ,\n",
       "         0.31826776, -0.14804359, -0.12141491, -0.51846856,  0.34631464,\n",
       "        -0.297849  , -0.02684111, -0.4889008 ,  0.9552917 , -0.05783179,\n",
       "         0.1190514 ,  0.08876265,  0.86980224,  1.0454931 , -0.09176209,\n",
       "         0.7401255 ,  0.19601004,  0.09150388,  0.20689489,  0.99358606,\n",
       "         0.6504406 ,  0.511617  , -0.7658563 ,  0.21452227, -0.02053336],\n",
       "       dtype=float32),\n",
       " array([-0.23361222,  0.31093937,  0.1328114 , -0.03010837,  0.08203897,\n",
       "        -0.5101961 ,  0.1795542 ,  0.61689943, -0.18391846, -0.15318714,\n",
       "        -0.24991074, -0.42775595, -0.12688746,  0.17533472,  0.0682173 ,\n",
       "        -0.23301235,  0.03094341, -0.5403733 ,  0.03815113, -0.6251002 ,\n",
       "         0.23156455,  0.16601765,  0.16403618, -0.07126673, -0.10156676,\n",
       "         0.05047904, -0.27069208, -0.22101256, -0.35993105,  0.03035739,\n",
       "         0.30867592,  0.16823582, -0.03962074, -0.2270671 , -0.12507142,\n",
       "         0.30272278,  0.00306317, -0.34073117, -0.292542  , -0.5539418 ,\n",
       "         0.05581798, -0.2848613 , -0.13426465,  0.02665479,  0.34530026,\n",
       "        -0.09857298, -0.34855586, -0.03603175,  0.11020855,  0.25756115,\n",
       "         0.14839983, -0.27638865, -0.14452356,  0.05132393, -0.23293728,\n",
       "         0.21480837,  0.15661879, -0.04483205, -0.39078405,  0.1264873 ,\n",
       "         0.13055576,  0.19515254, -0.13911067, -0.04510698, -0.35045108,\n",
       "         0.29161698,  0.07766037,  0.19615424, -0.37165508,  0.36319533,\n",
       "        -0.16574176,  0.19831067,  0.3346082 , -0.19511391,  0.3651814 ,\n",
       "         0.16512017, -0.06459169, -0.06052547, -0.27303657,  0.17617863,\n",
       "        -0.15488745,  0.00126562, -0.24583021,  0.48731768, -0.0260626 ,\n",
       "         0.06885315,  0.03666071,  0.4431009 ,  0.53481036, -0.02420808,\n",
       "         0.38492778,  0.09098566,  0.03082796,  0.10179717,  0.49989206,\n",
       "         0.32299837,  0.27932018, -0.39573705,  0.11358681, -0.01106062],\n",
       "       dtype=float32),\n",
       " array([-0.40329465,  0.5114236 ,  0.222683  , -0.04100876,  0.11813718,\n",
       "        -0.8718034 ,  0.3221208 ,  1.0491289 , -0.2800922 , -0.25861797,\n",
       "        -0.42955425, -0.72512835, -0.21481238,  0.29892117,  0.12755172,\n",
       "        -0.39198956,  0.04793965, -0.9481424 ,  0.07241251, -1.0358894 ,\n",
       "         0.37910646,  0.2808436 ,  0.27221742, -0.10791937, -0.15392533,\n",
       "         0.07850281, -0.48382986, -0.38739824, -0.61266387,  0.05309363,\n",
       "         0.54495746,  0.28219295, -0.06483655, -0.3809801 , -0.21418914,\n",
       "         0.5162698 , -0.02026809, -0.59090215, -0.504264  , -0.94931966,\n",
       "         0.08548818, -0.46724948, -0.2304801 ,  0.04398735,  0.5651247 ,\n",
       "        -0.1777869 , -0.61034316, -0.05545776,  0.199961  ,  0.44083223,\n",
       "         0.2667633 , -0.44563347, -0.2144781 ,  0.07507099, -0.4244251 ,\n",
       "         0.39027953,  0.26915073, -0.0847417 , -0.65652764,  0.21790175,\n",
       "         0.23209748,  0.33753902, -0.23841614, -0.06567605, -0.5789958 ,\n",
       "         0.46157104,  0.14590918,  0.31271732, -0.6337869 ,  0.6119306 ,\n",
       "        -0.2852243 ,  0.33844867,  0.5436086 , -0.3265461 ,  0.6162304 ,\n",
       "         0.28053522, -0.10749193, -0.0979614 , -0.4308214 ,  0.31432933,\n",
       "        -0.2612208 ,  0.00221163, -0.4119811 ,  0.82973397, -0.05559074,\n",
       "         0.13754432,  0.07970765,  0.7667926 ,  0.9144864 , -0.06595412,\n",
       "         0.61952484,  0.16056667,  0.07943055,  0.16567929,  0.82905936,\n",
       "         0.5650412 ,  0.45596215, -0.66917706,  0.22018513, -0.01857677],\n",
       "       dtype=float32),\n",
       " array([-0.52218133,  0.6947473 ,  0.29337186, -0.06284522,  0.16384704,\n",
       "        -1.128183  ,  0.43804944,  1.3639425 , -0.3738717 , -0.31884217,\n",
       "        -0.5644536 , -0.9520642 , -0.27184615,  0.39328837,  0.14613658,\n",
       "        -0.53579366,  0.09027232, -1.2704322 ,  0.08976327, -1.3774678 ,\n",
       "         0.5045616 ,  0.3713323 ,  0.3767385 , -0.12287927, -0.21690379,\n",
       "         0.10178537, -0.6421172 , -0.5121205 , -0.8121696 ,  0.08334757,\n",
       "         0.71622694,  0.3527028 , -0.11306652, -0.52385473, -0.2825931 ,\n",
       "         0.66265607, -0.03692986, -0.7748162 , -0.66884017, -1.2585971 ,\n",
       "         0.09809229, -0.6191452 , -0.30518022,  0.07252103,  0.73930764,\n",
       "        -0.24215832, -0.80190426, -0.09035569,  0.25963745,  0.583925  ,\n",
       "         0.34710586, -0.60929525, -0.28787005,  0.08994095, -0.54752356,\n",
       "         0.49563694,  0.3582196 , -0.09825459, -0.8832779 ,  0.28751558,\n",
       "         0.29674897,  0.4210748 , -0.2964083 , -0.07825489, -0.7599207 ,\n",
       "         0.6150979 ,  0.18531634,  0.4186849 , -0.82583624,  0.8047985 ,\n",
       "        -0.3772754 ,  0.44943726,  0.7184726 , -0.44736904,  0.7957833 ,\n",
       "         0.3566721 , -0.17150062, -0.13132814, -0.5730605 ,  0.4002913 ,\n",
       "        -0.36293614, -0.004603  , -0.5372486 ,  1.0773625 , -0.0469035 ,\n",
       "         0.15415081,  0.09355822,  1.0236584 ,  1.2180545 , -0.08379716,\n",
       "         0.8295551 ,  0.20055549,  0.09608992,  0.20250407,  1.1179905 ,\n",
       "         0.73622286,  0.60712093, -0.88349515,  0.2695818 , -0.02718259],\n",
       "       dtype=float32),\n",
       " array([-0.44171712,  0.58048135,  0.23725042, -0.04544242,  0.11633072,\n",
       "        -0.95157427,  0.36800396,  1.161585  , -0.32962367, -0.2650328 ,\n",
       "        -0.4919804 , -0.800727  , -0.2201996 ,  0.3160302 ,  0.11771398,\n",
       "        -0.45305315,  0.07201738, -1.0738366 ,  0.07724855, -1.1758633 ,\n",
       "         0.4451515 ,  0.3158279 ,  0.3290446 , -0.10895518, -0.17108588,\n",
       "         0.09261928, -0.5343212 , -0.42939347, -0.6837318 ,  0.07320143,\n",
       "         0.597444  ,  0.30199665, -0.07730282, -0.44476542, -0.22660065,\n",
       "         0.56843936, -0.04118778, -0.6733176 , -0.5726654 , -1.0680279 ,\n",
       "         0.07797089, -0.52458864, -0.2454676 ,  0.06970691,  0.62705785,\n",
       "        -0.20041111, -0.6783768 , -0.07796814,  0.20472144,  0.48415166,\n",
       "         0.31146586, -0.51241463, -0.25691548,  0.07516033, -0.46104753,\n",
       "         0.41809037,  0.29622227, -0.08906864, -0.7542026 ,  0.23924704,\n",
       "         0.2561912 ,  0.357349  , -0.2632504 , -0.05882053, -0.6538705 ,\n",
       "         0.52018154,  0.16611569,  0.36199805, -0.6984502 ,  0.69143575,\n",
       "        -0.33399522,  0.36805257,  0.60856605, -0.37436038,  0.6744462 ,\n",
       "         0.3096601 , -0.12664866, -0.11863106, -0.48397934,  0.35327038,\n",
       "        -0.3040038 ,  0.00923592, -0.46578738,  0.90158427, -0.05694666,\n",
       "         0.12564105,  0.07896003,  0.8653464 ,  1.0200747 , -0.06901164,\n",
       "         0.69839394,  0.16638774,  0.08020888,  0.18151256,  0.95370096,\n",
       "         0.6135393 ,  0.5201713 , -0.7437787 ,  0.23376402, -0.02650785],\n",
       "       dtype=float32),\n",
       " array([-0.50680065,  0.67875427,  0.29286563, -0.05361396,  0.143399  ,\n",
       "        -1.1060277 ,  0.43837917,  1.3515627 , -0.3742378 , -0.3283911 ,\n",
       "        -0.56727934, -0.92484015, -0.2605868 ,  0.38955858,  0.15404642,\n",
       "        -0.51787406,  0.0825396 , -1.2575923 ,  0.08761195, -1.3775126 ,\n",
       "         0.51671654,  0.3661324 ,  0.36071724, -0.12948112, -0.21747603,\n",
       "         0.11278534, -0.62539655, -0.51749015, -0.7936986 ,  0.09722574,\n",
       "         0.6990287 ,  0.3490879 , -0.10519712, -0.5165722 , -0.28309593,\n",
       "         0.676424  , -0.04525496, -0.7811667 , -0.6780885 , -1.2510791 ,\n",
       "         0.10198408, -0.59687465, -0.2854721 ,  0.08959658,  0.73737866,\n",
       "        -0.2405132 , -0.7920492 , -0.10054781,  0.2630013 ,  0.57219905,\n",
       "         0.3354644 , -0.5947592 , -0.30307823,  0.08411159, -0.54209405,\n",
       "         0.4969465 ,  0.34253347, -0.10053161, -0.86181265,  0.27804744,\n",
       "         0.30036336,  0.42418188, -0.29543492, -0.07724703, -0.7494017 ,\n",
       "         0.61895597,  0.18434438,  0.4131104 , -0.8180589 ,  0.79516184,\n",
       "        -0.37857187,  0.44091132,  0.70626503, -0.4387379 ,  0.7881121 ,\n",
       "         0.35893914, -0.15091571, -0.11659869, -0.57199806,  0.39576268,\n",
       "        -0.35788047, -0.00822738, -0.5419384 ,  1.0663522 , -0.04524461,\n",
       "         0.15648371,  0.09886443,  1.0048696 ,  1.1919863 , -0.09241474,\n",
       "         0.81730485,  0.20226349,  0.0814908 ,  0.2224921 ,  1.0895913 ,\n",
       "         0.71306586,  0.58133334, -0.8659712 ,  0.2764851 , -0.00935183],\n",
       "       dtype=float32),\n",
       " array([-0.33163223,  0.43376985,  0.18900873, -0.04190915,  0.0950579 ,\n",
       "        -0.7108046 ,  0.27347505,  0.8528595 , -0.24091052, -0.20947897,\n",
       "        -0.34780097, -0.59058344, -0.16978475,  0.24725546,  0.08386939,\n",
       "        -0.33413404,  0.05959621, -0.7823444 ,  0.07003965, -0.8718629 ,\n",
       "         0.319893  ,  0.22071753,  0.23443384, -0.08095879, -0.12240606,\n",
       "         0.06954153, -0.39275303, -0.30836335, -0.49471208,  0.04493565,\n",
       "         0.4394489 ,  0.23898081, -0.07009853, -0.3122295 , -0.16606633,\n",
       "         0.42741135, -0.02171085, -0.49151492, -0.41748896, -0.79229176,\n",
       "         0.06513862, -0.37984374, -0.18808143,  0.04590904,  0.47111085,\n",
       "        -0.15859215, -0.4882105 , -0.06348299,  0.1483877 ,  0.36145052,\n",
       "         0.21719208, -0.375007  , -0.18092674,  0.06050817, -0.34770837,\n",
       "         0.3096595 ,  0.23366697, -0.05674381, -0.5568858 ,  0.17140034,\n",
       "         0.19381419,  0.25858548, -0.19561516, -0.04393857, -0.4690938 ,\n",
       "         0.3773016 ,  0.12226183,  0.26380843, -0.5086032 ,  0.50941485,\n",
       "        -0.24205571,  0.28545728,  0.4382358 , -0.26391554,  0.5032502 ,\n",
       "         0.2425583 , -0.10819428, -0.08443853, -0.3584473 ,  0.26540703,\n",
       "        -0.2210531 ,  0.00615391, -0.34195223,  0.68564564, -0.04486705,\n",
       "         0.11015677,  0.06982739,  0.63733274,  0.76086   , -0.0399092 ,\n",
       "         0.52635854,  0.12374974,  0.05948878,  0.12916856,  0.7010463 ,\n",
       "         0.4606425 ,  0.36993295, -0.56301963,  0.18025085, -0.00760756],\n",
       "       dtype=float32),\n",
       " array([-0.6207195 ,  0.8112944 ,  0.34440804, -0.08419367,  0.18218076,\n",
       "        -1.3159442 ,  0.50718474,  1.6079434 , -0.4422198 , -0.3874916 ,\n",
       "        -0.65035194, -1.0882004 , -0.3111014 ,  0.44457147,  0.18600304,\n",
       "        -0.6171249 ,  0.10373211, -1.4770166 ,  0.1030683 , -1.6100107 ,\n",
       "         0.59597546,  0.41401768,  0.44760862, -0.13964792, -0.25922737,\n",
       "         0.12426572, -0.7301148 , -0.5935155 , -0.9391193 ,  0.09700912,\n",
       "         0.8224083 ,  0.42369854, -0.1292443 , -0.6064694 , -0.31136486,\n",
       "         0.7907834 , -0.03513708, -0.92493963, -0.80272835, -1.4434175 ,\n",
       "         0.12906042, -0.7106464 , -0.3368401 ,  0.08606279,  0.87662226,\n",
       "        -0.281465  , -0.91375315, -0.10200791,  0.28916043,  0.67142   ,\n",
       "         0.41724533, -0.688736  , -0.35192168,  0.10222339, -0.65457195,\n",
       "         0.57783   ,  0.41001   , -0.10129429, -1.016513  ,  0.3224027 ,\n",
       "         0.35381815,  0.5079932 , -0.34419504, -0.08788878, -0.8796458 ,\n",
       "         0.708392  ,  0.22891115,  0.49256125, -0.96169317,  0.9239845 ,\n",
       "        -0.44183657,  0.51171756,  0.8231609 , -0.49765012,  0.931019  ,\n",
       "         0.42321238, -0.19420926, -0.14072382, -0.67560756,  0.48620814,\n",
       "        -0.42172042,  0.00805945, -0.6318803 ,  1.2552136 , -0.06913628,\n",
       "         0.192691  ,  0.12662901,  1.1971787 ,  1.4060556 , -0.10217771,\n",
       "         0.9504244 ,  0.2324135 ,  0.10177451,  0.23974843,  1.3106159 ,\n",
       "         0.8509457 ,  0.71234626, -1.0397694 ,  0.3230747 , -0.03316348],\n",
       "       dtype=float32)]"
      ]
     },
     "execution_count": 29,
     "metadata": {},
     "output_type": "execute_result"
    }
   ],
   "source": [
    "vecs_to_viz = [vectors[word] for word in words_to_viz]\n",
    "vecs_to_viz"
   ]
  },
  {
   "cell_type": "code",
   "execution_count": 30,
   "metadata": {},
   "outputs": [
    {
     "data": {
      "text/plain": [
       "array([[-0.74639774,  0.08730531],\n",
       "       [ 1.35447615,  0.00942958],\n",
       "       [-0.30340187,  0.08160693],\n",
       "       [ 2.17949195,  0.00619392],\n",
       "       [ 0.38897743, -0.02072712],\n",
       "       [-1.00756854, -0.02006142],\n",
       "       [-0.12726962, -0.04669002],\n",
       "       [-0.93697455, -0.00573759],\n",
       "       [ 1.14906863, -0.04450003],\n",
       "       [-1.95040184, -0.04681956]])"
      ]
     },
     "execution_count": 30,
     "metadata": {},
     "output_type": "execute_result"
    }
   ],
   "source": [
    "pca = PCA(n_components=2)\n",
    "vecs_PCA = pca.fit_transform(vecs_to_viz)\n",
    "vecs_PCA"
   ]
  },
  {
   "cell_type": "code",
   "execution_count": 34,
   "metadata": {},
   "outputs": [
    {
     "data": {
      "text/html": [
       "<div>\n",
       "<style scoped>\n",
       "    .dataframe tbody tr th:only-of-type {\n",
       "        vertical-align: middle;\n",
       "    }\n",
       "\n",
       "    .dataframe tbody tr th {\n",
       "        vertical-align: top;\n",
       "    }\n",
       "\n",
       "    .dataframe thead th {\n",
       "        text-align: right;\n",
       "    }\n",
       "</style>\n",
       "<table border=\"1\" class=\"dataframe\">\n",
       "  <thead>\n",
       "    <tr style=\"text-align: right;\">\n",
       "      <th></th>\n",
       "      <th>word</th>\n",
       "      <th>association</th>\n",
       "      <th>PC1</th>\n",
       "      <th>PC2</th>\n",
       "    </tr>\n",
       "  </thead>\n",
       "  <tbody>\n",
       "    <tr>\n",
       "      <th>0</th>\n",
       "      <td>pagcor</td>\n",
       "      <td>pogo</td>\n",
       "      <td>-0.746398</td>\n",
       "      <td>0.087305</td>\n",
       "    </tr>\n",
       "    <tr>\n",
       "      <th>1</th>\n",
       "      <td>raid</td>\n",
       "      <td>pogo</td>\n",
       "      <td>1.354476</td>\n",
       "      <td>0.009430</td>\n",
       "    </tr>\n",
       "    <tr>\n",
       "      <th>2</th>\n",
       "      <td>repres</td>\n",
       "      <td>pogo</td>\n",
       "      <td>-0.303402</td>\n",
       "      <td>0.081607</td>\n",
       "    </tr>\n",
       "    <tr>\n",
       "      <th>3</th>\n",
       "      <td>licens</td>\n",
       "      <td>pogo</td>\n",
       "      <td>2.179492</td>\n",
       "      <td>0.006194</td>\n",
       "    </tr>\n",
       "    <tr>\n",
       "      <th>4</th>\n",
       "      <td>country</td>\n",
       "      <td>pogo</td>\n",
       "      <td>0.388977</td>\n",
       "      <td>-0.020727</td>\n",
       "    </tr>\n",
       "    <tr>\n",
       "      <th>5</th>\n",
       "      <td>one</td>\n",
       "      <td>scam</td>\n",
       "      <td>-1.007569</td>\n",
       "      <td>-0.020061</td>\n",
       "    </tr>\n",
       "    <tr>\n",
       "      <th>6</th>\n",
       "      <td>like</td>\n",
       "      <td>scam</td>\n",
       "      <td>-0.127270</td>\n",
       "      <td>-0.046690</td>\n",
       "    </tr>\n",
       "    <tr>\n",
       "      <th>7</th>\n",
       "      <td>becaus</td>\n",
       "      <td>scam</td>\n",
       "      <td>-0.936975</td>\n",
       "      <td>-0.005738</td>\n",
       "    </tr>\n",
       "    <tr>\n",
       "      <th>8</th>\n",
       "      <td>year</td>\n",
       "      <td>scam</td>\n",
       "      <td>1.149069</td>\n",
       "      <td>-0.044500</td>\n",
       "    </tr>\n",
       "    <tr>\n",
       "      <th>9</th>\n",
       "      <td>thi</td>\n",
       "      <td>scam</td>\n",
       "      <td>-1.950402</td>\n",
       "      <td>-0.046820</td>\n",
       "    </tr>\n",
       "  </tbody>\n",
       "</table>\n",
       "</div>"
      ],
      "text/plain": [
       "      word association       PC1       PC2\n",
       "0   pagcor        pogo -0.746398  0.087305\n",
       "1     raid        pogo  1.354476  0.009430\n",
       "2   repres        pogo -0.303402  0.081607\n",
       "3   licens        pogo  2.179492  0.006194\n",
       "4  country        pogo  0.388977 -0.020727\n",
       "5      one        scam -1.007569 -0.020061\n",
       "6     like        scam -0.127270 -0.046690\n",
       "7   becaus        scam -0.936975 -0.005738\n",
       "8     year        scam  1.149069 -0.044500\n",
       "9      thi        scam -1.950402 -0.046820"
      ]
     },
     "execution_count": 34,
     "metadata": {},
     "output_type": "execute_result"
    }
   ],
   "source": [
    "vecs_PCA_df = pd.DataFrame(columns=['word', 'association', 'PC1', 'PC2'])\n",
    "\n",
    "for idx in range(len(words_to_viz)):\n",
    "  word = words_to_viz[idx]\n",
    "  association = 'pogo' if word in word_set1 else 'scam'\n",
    "  PC1 = vecs_PCA[idx, 0]\n",
    "  PC2 = vecs_PCA[idx, 1]\n",
    "  new_row = [word, association, PC1, PC2]\n",
    "\n",
    "  vecs_PCA_df.loc[len(vecs_PCA_df)] = new_row\n",
    "\n",
    "vecs_PCA_df"
   ]
  },
  {
   "cell_type": "code",
   "execution_count": 35,
   "metadata": {},
   "outputs": [
    {
     "data": {
      "image/png": "[encoded data removed]",
      "text/plain": [
       "<Figure size 640x480 with 1 Axes>"
      ]
     },
     "metadata": {},
     "output_type": "display_data"
    }
   ],
   "source": [
    "vecs_viz = sns.scatterplot(data=vecs_PCA_df, x='PC1', y='PC2', hue='association')\n",
    "for idx in range(len(words_to_viz)):\n",
    "  vecs_viz.text(vecs_PCA_df.PC1[idx] - 0.01, vecs_PCA_df.PC2[idx], vecs_PCA_df.word[idx], horizontalalignment='right',\n",
    "                size='x-small', color='black', weight='light')\n",
    "vecs_viz\n",
    "\n",
    "plt.show()"
   ]
  },
  {
   "cell_type": "code",
   "execution_count": 38,
   "metadata": {},
   "outputs": [],
   "source": [
    "def viz_associated_wordvecs(word1, word2, topn=5, model=vectors):\n",
    "  word_set1 = [model.most_similar(word1, topn=topn)[idx][0] for idx in range(topn)]\n",
    "  word_set2 = [model.most_similar(word2, topn=topn)[idx][0] for idx in range(topn)]\n",
    "  words_to_viz = word_set1 + word_set2\n",
    "  vecs_to_viz = [model[word] for word in words_to_viz]\n",
    "\n",
    "  pca = PCA(n_components=2)\n",
    "  vecs_PCA = pca.fit_transform(vecs_to_viz)\n",
    "  vecs_PCA_df = pd.DataFrame(columns=['word', 'association', 'PC1', 'PC2'])\n",
    "\n",
    "  for idx in range(len(words_to_viz)):\n",
    "    word = words_to_viz[idx]\n",
    "    association = word1 if word in word_set1 else word2\n",
    "    PC1 = vecs_PCA[idx, 0]\n",
    "    PC2 = vecs_PCA[idx, 1]\n",
    "    new_row = [word, association, PC1, PC2]\n",
    "    vecs_PCA_df.loc[len(vecs_PCA_df)] = new_row\n",
    "\n",
    "  vecs_viz = sns.scatterplot(data=vecs_PCA_df, x='PC1', y='PC2', hue='association')\n",
    "\n",
    "  for idx in range(len(words_to_viz)):\n",
    "    vecs_viz.text(vecs_PCA_df.PC1[idx] - 0.01, vecs_PCA_df.PC2[idx], vecs_PCA_df.word[idx], horizontalalignment='right',\n",
    "                  size='x-small', color='black', weight='light')\n",
    "  return vecs_PCA_df"
   ]
  },
  {
   "cell_type": "code",
   "execution_count": 39,
   "metadata": {},
   "outputs": [
    {
     "data": {
      "text/html": [
       "<div>\n",
       "<style scoped>\n",
       "    .dataframe tbody tr th:only-of-type {\n",
       "        vertical-align: middle;\n",
       "    }\n",
       "\n",
       "    .dataframe tbody tr th {\n",
       "        vertical-align: top;\n",
       "    }\n",
       "\n",
       "    .dataframe thead th {\n",
       "        text-align: right;\n",
       "    }\n",
       "</style>\n",
       "<table border=\"1\" class=\"dataframe\">\n",
       "  <thead>\n",
       "    <tr style=\"text-align: right;\">\n",
       "      <th></th>\n",
       "      <th>word</th>\n",
       "      <th>association</th>\n",
       "      <th>PC1</th>\n",
       "      <th>PC2</th>\n",
       "    </tr>\n",
       "  </thead>\n",
       "  <tbody>\n",
       "    <tr>\n",
       "      <th>0</th>\n",
       "      <td>also</td>\n",
       "      <td>man</td>\n",
       "      <td>-0.991234</td>\n",
       "      <td>-0.011983</td>\n",
       "    </tr>\n",
       "    <tr>\n",
       "      <th>1</th>\n",
       "      <td>would</td>\n",
       "      <td>man</td>\n",
       "      <td>-0.786873</td>\n",
       "      <td>-0.036173</td>\n",
       "    </tr>\n",
       "    <tr>\n",
       "      <th>2</th>\n",
       "      <td>two</td>\n",
       "      <td>man</td>\n",
       "      <td>0.125544</td>\n",
       "      <td>-0.031067</td>\n",
       "    </tr>\n",
       "    <tr>\n",
       "      <th>3</th>\n",
       "      <td>thi</td>\n",
       "      <td>man</td>\n",
       "      <td>-1.881650</td>\n",
       "      <td>-0.001795</td>\n",
       "    </tr>\n",
       "    <tr>\n",
       "      <th>4</th>\n",
       "      <td>ask</td>\n",
       "      <td>man</td>\n",
       "      <td>0.826600</td>\n",
       "      <td>-0.051709</td>\n",
       "    </tr>\n",
       "    <tr>\n",
       "      <th>5</th>\n",
       "      <td>back</td>\n",
       "      <td>woman</td>\n",
       "      <td>2.698211</td>\n",
       "      <td>0.016803</td>\n",
       "    </tr>\n",
       "    <tr>\n",
       "      <th>6</th>\n",
       "      <td>author</td>\n",
       "      <td>woman</td>\n",
       "      <td>0.328247</td>\n",
       "      <td>0.071117</td>\n",
       "    </tr>\n",
       "    <tr>\n",
       "      <th>7</th>\n",
       "      <td>becaus</td>\n",
       "      <td>woman</td>\n",
       "      <td>-0.867560</td>\n",
       "      <td>0.026599</td>\n",
       "    </tr>\n",
       "    <tr>\n",
       "      <th>8</th>\n",
       "      <td>the</td>\n",
       "      <td>woman</td>\n",
       "      <td>2.282659</td>\n",
       "      <td>-0.002766</td>\n",
       "    </tr>\n",
       "    <tr>\n",
       "      <th>9</th>\n",
       "      <td>hi</td>\n",
       "      <td>woman</td>\n",
       "      <td>-1.733944</td>\n",
       "      <td>0.020974</td>\n",
       "    </tr>\n",
       "  </tbody>\n",
       "</table>\n",
       "</div>"
      ],
      "text/plain": [
       "     word association       PC1       PC2\n",
       "0    also         man -0.991234 -0.011983\n",
       "1   would         man -0.786873 -0.036173\n",
       "2     two         man  0.125544 -0.031067\n",
       "3     thi         man -1.881650 -0.001795\n",
       "4     ask         man  0.826600 -0.051709\n",
       "5    back       woman  2.698211  0.016803\n",
       "6  author       woman  0.328247  0.071117\n",
       "7  becaus       woman -0.867560  0.026599\n",
       "8     the       woman  2.282659 -0.002766\n",
       "9      hi       woman -1.733944  0.020974"
      ]
     },
     "execution_count": 39,
     "metadata": {},
     "output_type": "execute_result"
    },
    {
     "data": {
      "image/png": "[encoded data removed]",
      "text/plain": [
       "<Figure size 640x480 with 1 Axes>"
      ]
     },
     "metadata": {},
     "output_type": "display_data"
    }
   ],
   "source": [
    "viz_associated_wordvecs('man', 'woman', topn=5, model=vectors)"
   ]
  }
 ],
 "metadata": {
  "kernelspec": {
   "display_name": "base",
   "language": "python",
   "name": "python3"
  },
  "language_info": {
   "codemirror_mode": {
    "name": "ipython",
    "version": 3
   },
   "file_extension": ".py",
   "mimetype": "text/x-python",
   "name": "python",
   "nbconvert_exporter": "python",
   "pygments_lexer": "ipython3",
   "version": "3.11.8"
  }
 },
 "nbformat": 4,
 "nbformat_minor": 2
}
